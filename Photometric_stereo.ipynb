{
  "nbformat": 4,
  "nbformat_minor": 0,
  "metadata": {
    "colab": {
      "provenance": []
    },
    "kernelspec": {
      "name": "python3",
      "display_name": "Python 3"
    },
    "language_info": {
      "name": "python"
    }
  },
  "cells": [
    {
      "cell_type": "code",
      "execution_count": 2,
      "metadata": {
        "id": "CW_w8DP7WVX1"
      },
      "outputs": [],
      "source": [
        "import matplotlib.pyplot as plt\n",
        "import pandas as pd\n",
        "import numpy as np\n",
        "import os\n",
        "from skimage import io\n",
        "from sklearn.cluster import MeanShift, estimate_bandwidth\n",
        "from sklearn.cluster import KMeans\n",
        "from mpl_toolkits.mplot3d import Axes3D\n",
        "from skimage import data, segmentation, color\n",
        "from skimage.future import *\n",
        "from skimage.color import rgb2gray\n",
        "import warnings\n",
        "warnings.filterwarnings(\"ignore\")"
      ]
    },
    {
      "cell_type": "code",
      "source": [
        "######################################################################\n",
        "# You should divide the image intensity by 255 to scale them into\n",
        "# [0, 1] before any computation.\n",
        "######################################################################\n",
        "def reshape_image(first_image, second_image, third_image, fourth_image):\n",
        "  \"\"\"\n",
        "  params:\n",
        "  original input images\n",
        "  TO DO:\n",
        "  Divide the images by 255.0\n",
        "  return: normalized images.\n",
        "  \"\"\"\n",
        "  first_image = first_image / 255.0\n",
        "  second_image = second_image / 255.0\n",
        "  third_image = third_image / 255.0\n",
        "  fourth_image = fourth_image / 255.0\n",
        "  return first_image, second_image, third_image, fourth_image"
      ],
      "metadata": {
        "id": "ilJPOcGsWYRV"
      },
      "execution_count": 4,
      "outputs": []
    },
    {
      "cell_type": "code",
      "source": [],
      "metadata": {
        "id": "L6M60-yfXWmp"
      },
      "execution_count": null,
      "outputs": []
    }
  ]
}